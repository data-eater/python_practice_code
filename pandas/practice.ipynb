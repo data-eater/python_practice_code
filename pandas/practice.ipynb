{
 "cells": [
  {
   "cell_type": "code",
   "execution_count": null,
   "metadata": {},
   "outputs": [],
   "source": [
    "import pandas as pd"
   ]
  },
  {
   "cell_type": "markdown",
   "metadata": {},
   "source": [
    "### This is Series Practice"
   ]
  },
  {
   "cell_type": "code",
   "execution_count": null,
   "metadata": {},
   "outputs": [],
   "source": [
    "data_series = pd.Series([9, 8, 6, 5, 4, 2, 2, 1, 3], name=\"RandInt\")\n",
    "print(data_series)"
   ]
  },
  {
   "cell_type": "code",
   "execution_count": null,
   "metadata": {},
   "outputs": [],
   "source": [
    "print(list(data_series))\n",
    "# Better Approach\n",
    "data_series.to_list()"
   ]
  },
  {
   "cell_type": "code",
   "execution_count": null,
   "metadata": {},
   "outputs": [],
   "source": [
    "# Add, Subtract, Multiply and Divide\n",
    "\n",
    "series1 = pd.Series([2, 4, 6, 8, 10], name=\"Series1\")\n",
    "series2 = pd.Series([1, 3, 5, 7, 10], name=\"Series2\")\n",
    "\n",
    "print(series1.add(series2))\n",
    "print(series1.multiply(series2))\n",
    "print(series1.divide(series2))\n",
    "print(series1.subtract(series2))"
   ]
  },
  {
   "cell_type": "code",
   "execution_count": null,
   "metadata": {},
   "outputs": [],
   "source": [
    "s1 = pd.Series([\"100\", \"200\", \"python\", \"300.12\", \"400\"])\n",
    "s1 = pd.to_numeric(s1, errors=\"coerce\")\n",
    "print(s1)"
   ]
  },
  {
   "cell_type": "code",
   "execution_count": null,
   "metadata": {},
   "outputs": [],
   "source": [
    "data_f = pd.DataFrame({\"col1\": [2, 4, 6, 8, 10], \"col2\": [1, 3, 5, 7, 10]})\n",
    "data_f = data_f.stack(future_stack=True)\n",
    "data_f.loc[0].loc[\"col1\"]"
   ]
  },
  {
   "cell_type": "code",
   "execution_count": null,
   "metadata": {},
   "outputs": [],
   "source": [
    "s1.sort_values(ascending=False)"
   ]
  },
  {
   "cell_type": "code",
   "execution_count": null,
   "metadata": {},
   "outputs": [],
   "source": [
    "pd.concat(objs=[series1, series2], ignore_index=True, axis=0)"
   ]
  },
  {
   "cell_type": "code",
   "execution_count": null,
   "metadata": {},
   "outputs": [],
   "source": [
    "series1.loc[series1 > 5]"
   ]
  },
  {
   "cell_type": "code",
   "execution_count": null,
   "metadata": {},
   "outputs": [],
   "source": [
    "s = pd.Series(data=[1, 2, 3, 4, 5, 6, 7, 8, 9, 5, 3])\n",
    "print(s.sort_values().to_list())\n",
    "print(s.mean())\n",
    "print(s.std())"
   ]
  },
  {
   "cell_type": "code",
   "execution_count": null,
   "metadata": {},
   "outputs": [],
   "source": [
    "sr1 = pd.Series([1, 2, 3, 4, 5])\n",
    "sr2 = pd.Series([2, 4, 6, 8, 1])\n",
    "\n",
    "sr1[~sr1.isin(sr2)]"
   ]
  },
  {
   "cell_type": "code",
   "execution_count": null,
   "metadata": {},
   "outputs": [],
   "source": []
  },
  {
   "cell_type": "code",
   "execution_count": null,
   "metadata": {},
   "outputs": [],
   "source": []
  },
  {
   "cell_type": "markdown",
   "metadata": {},
   "source": [
    "### This is DataFrame Practice"
   ]
  },
  {
   "cell_type": "code",
   "execution_count": null,
   "metadata": {},
   "outputs": [],
   "source": [
    "actor_tv = pd.DataFrame(\n",
    "    {\n",
    "        \"first_name\": [\"alan\", \"ahmad\", \"shan\", \"jhon\"],\n",
    "        \"last_name\": [\"walker\", \"cheema\", \"mqsood\", \"davidson\"],\n",
    "    }\n",
    ")\n",
    "actor_film = pd.DataFrame(\n",
    "    {\n",
    "        \"first_name\": [\n",
    "            \"miyan\",\n",
    "            \"ahmad\",\n",
    "            \"jhon\",\n",
    "            \"shan\",\n",
    "        ],\n",
    "        \"last_name\": [\"mansha\", \"cheema\", \"davidson\", \"shahid\"],\n",
    "    }\n",
    ")\n",
    "tv = actor_tv[\"first_name\"] + actor_tv[\"last_name\"]\n",
    "film = actor_film[\"first_name\"] + actor_film[\"last_name\"]\n",
    "(film.isin(tv))"
   ]
  }
 ],
 "metadata": {
  "kernelspec": {
   "display_name": "ml",
   "language": "python",
   "name": "python3"
  },
  "language_info": {
   "codemirror_mode": {
    "name": "ipython",
    "version": 3
   },
   "file_extension": ".py",
   "mimetype": "text/x-python",
   "name": "python",
   "nbconvert_exporter": "python",
   "pygments_lexer": "ipython3",
   "version": "3.12.4"
  }
 },
 "nbformat": 4,
 "nbformat_minor": 2
}
